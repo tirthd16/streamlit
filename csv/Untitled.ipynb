{
 "cells": [
  {
   "cell_type": "markdown",
   "id": "d7f2b3f0-d725-498b-9225-f994315180c7",
   "metadata": {},
   "source": [
    "# "
   ]
  },
  {
   "cell_type": "code",
   "execution_count": 2,
   "id": "2ec9f185-5a94-4d6b-96c8-fdc686b9f852",
   "metadata": {},
   "outputs": [],
   "source": [
    "import pandas as pd"
   ]
  },
  {
   "cell_type": "code",
   "execution_count": 3,
   "id": "1a92df70-f6ee-468c-a1bc-f4fd26d920dc",
   "metadata": {},
   "outputs": [],
   "source": [
    "data = pd.read_csv('amazon_data.csv')"
   ]
  },
  {
   "cell_type": "code",
   "execution_count": 5,
   "id": "f4088709-4f92-4c2c-9348-77822bf11a69",
   "metadata": {},
   "outputs": [
    {
     "data": {
      "text/plain": [
       "Index(['Ranking', 'Title', 'a-icon-alt', 'ReviewCount', 'Price', 'sales',\n",
       "       'offer', 'sponsored', 'DeliveryDays'],\n",
       "      dtype='object')"
      ]
     },
     "execution_count": 5,
     "metadata": {},
     "output_type": "execute_result"
    }
   ],
   "source": [
    "data.columns"
   ]
  },
  {
   "cell_type": "code",
   "execution_count": 6,
   "id": "ea5099e5-10f8-4298-9989-9ca10dc1ed84",
   "metadata": {},
   "outputs": [],
   "source": [
    "from datetime import datetime, timedelta\n",
    "\n",
    "# Reference date\n",
    "reference_date = datetime.strptime('Jun 6', '%b %d')\n",
    "\n",
    "# Function to calculate days from reference date\n",
    "def calculate_days_from_reference(delivery_time):\n",
    "    if pd.isna(delivery_time):\n",
    "        return None\n",
    "    elif 'Today' in delivery_time:\n",
    "        return 0\n",
    "    elif 'Tomorrow' in delivery_time:\n",
    "        return 1\n",
    "    else:\n",
    "        date_str = delivery_time.split(',')[-1].strip()\n",
    "        try:\n",
    "            delivery_date = datetime.strptime(date_str, '%b %d')\n",
    "            return (delivery_date - reference_date).days\n",
    "        except ValueError:\n",
    "            # Handle cases like 'Jun 7 - 11'\n",
    "            try:\n",
    "                date_str = delivery_time.split('-')[0].strip()\n",
    "                delivery_date = datetime.strptime(date_str, '%b %d')\n",
    "                return (delivery_date - reference_date).days\n",
    "            except ValueError:\n",
    "                return None\n",
    "\n",
    "# Apply the function to the DeliveryTime column\n",
    "data['DeliveryDays'] = data['DeliveryDays'].apply(calculate_days_from_reference)\n",
    "\n"
   ]
  },
  {
   "cell_type": "code",
   "execution_count": 8,
   "id": "0b1beabc-13df-46d4-bb54-31b0823fd5ac",
   "metadata": {},
   "outputs": [
    {
     "data": {
      "text/plain": [
       "DeliveryDays\n",
       "5.0     1820\n",
       "6.0      236\n",
       "7.0      148\n",
       "21.0     101\n",
       "11.0     100\n",
       "18.0      43\n",
       "4.0       39\n",
       "12.0      32\n",
       "1.0       20\n",
       "15.0      19\n",
       "8.0       11\n",
       "14.0       8\n",
       "20.0       4\n",
       "22.0       4\n",
       "19.0       3\n",
       "2.0        1\n",
       "Name: count, dtype: int64"
      ]
     },
     "execution_count": 8,
     "metadata": {},
     "output_type": "execute_result"
    }
   ],
   "source": [
    "data['DeliveryDays'].value_counts()"
   ]
  },
  {
   "cell_type": "code",
   "execution_count": null,
   "id": "24c5562c-d87d-47dc-b9f6-e7ef135990b1",
   "metadata": {},
   "outputs": [],
   "source": [
    "data['Sales'] = data['sales'].str.extract(r'(\\d+[Kk]?)\\+? bought')[0]\n",
    "data['Sales'] = data['Sales'].replace({'K': '000', 'k': '000'}, regex=True).astype(float)"
   ]
  },
  {
   "cell_type": "code",
   "execution_count": 16,
   "id": "8f07b344-67a8-437c-a103-8af393c2878a",
   "metadata": {},
   "outputs": [],
   "source": [
    "data['Price'] = data['Price'].replace('$', '').astype(float).fillna(0).astype(float)"
   ]
  },
  {
   "cell_type": "code",
   "execution_count": 25,
   "id": "5fdbdfa6-2bbb-44e4-8a63-73aff56f55d5",
   "metadata": {},
   "outputs": [],
   "source": [
    "data['ReviewCount'] = pd.to_numeric(data['ReviewCount'], errors='coerce')"
   ]
  },
  {
   "cell_type": "code",
   "execution_count": 34,
   "id": "e822dd47-07e4-4d0d-898d-07e91c53ace0",
   "metadata": {},
   "outputs": [],
   "source": [
    "data['offer'] = data['offer'].str.extract(r'(\\d+)%', expand=False)"
   ]
  },
  {
   "cell_type": "code",
   "execution_count": 42,
   "id": "2e43df17-9f9d-44f8-93a5-9199f6029ae7",
   "metadata": {},
   "outputs": [],
   "source": [
    "data['offer'] = data['offer'].astype(float)"
   ]
  },
  {
   "cell_type": "code",
   "execution_count": 46,
   "id": "878be065-5a1f-4962-a92e-7fe2ca3d9de4",
   "metadata": {},
   "outputs": [],
   "source": [
    "data['sponsored'] = data['sponsored'].astype(bool)"
   ]
  },
  {
   "cell_type": "code",
   "execution_count": 53,
   "id": "e2037b52-4ed0-47de-a1d7-e8709feb11c7",
   "metadata": {},
   "outputs": [
    {
     "data": {
      "text/plain": [
       "sponsored\n",
       "True    2960\n",
       "Name: count, dtype: int64"
      ]
     },
     "execution_count": 53,
     "metadata": {},
     "output_type": "execute_result"
    }
   ],
   "source": [
    "data['sponsored'].value_counts()"
   ]
  },
  {
   "cell_type": "code",
   "execution_count": 48,
   "id": "9a7ce34c-f6c3-4f4d-8064-3509564f222c",
   "metadata": {},
   "outputs": [],
   "source": [
    "data['Ranking'] = data['Ranking'].astype(float)"
   ]
  },
  {
   "cell_type": "code",
   "execution_count": 50,
   "id": "9c4344d4-3f2c-422a-9f4c-425814bdc2cf",
   "metadata": {},
   "outputs": [],
   "source": [
    "data.to_csv('amazon_data.csv')"
   ]
  },
  {
   "cell_type": "code",
   "execution_count": 51,
   "id": "af403244-6a18-4e7b-92a3-c2bbf08b3d3b",
   "metadata": {},
   "outputs": [
    {
     "data": {
      "text/plain": [
       "Ranking         float64\n",
       "Title            object\n",
       "a-icon-alt      float64\n",
       "ReviewCount     float64\n",
       "Price           float64\n",
       "sales            object\n",
       "offer           float64\n",
       "sponsored          bool\n",
       "DeliveryDays    float64\n",
       "Sales           float64\n",
       "dtype: object"
      ]
     },
     "execution_count": 51,
     "metadata": {},
     "output_type": "execute_result"
    }
   ],
   "source": [
    "data.dtypes"
   ]
  },
  {
   "cell_type": "code",
   "execution_count": null,
   "id": "1b84c032-f236-4525-8191-c11737fdb064",
   "metadata": {},
   "outputs": [],
   "source": []
  }
 ],
 "metadata": {
  "kernelspec": {
   "display_name": "Python 3 (ipykernel)",
   "language": "python",
   "name": "python3"
  },
  "language_info": {
   "codemirror_mode": {
    "name": "ipython",
    "version": 3
   },
   "file_extension": ".py",
   "mimetype": "text/x-python",
   "name": "python",
   "nbconvert_exporter": "python",
   "pygments_lexer": "ipython3",
   "version": "3.12.2"
  }
 },
 "nbformat": 4,
 "nbformat_minor": 5
}
