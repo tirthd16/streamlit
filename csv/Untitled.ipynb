{
 "cells": [
  {
   "cell_type": "markdown",
   "id": "d7f2b3f0-d725-498b-9225-f994315180c7",
   "metadata": {},
   "source": [
    "# Testing Phase"
   ]
  },
  {
   "cell_type": "code",
   "execution_count": 37,
   "id": "2ec9f185-5a94-4d6b-96c8-fdc686b9f852",
   "metadata": {},
   "outputs": [],
   "source": [
    "import pandas as pd\n",
    "import altair as alt\n",
    "import matplotlib.pyplot as plt"
   ]
  },
  {
   "cell_type": "code",
   "execution_count": 38,
   "id": "1a92df70-f6ee-468c-a1bc-f4fd26d920dc",
   "metadata": {},
   "outputs": [],
   "source": [
    "df = pd.read_csv('amazon_data.csv')"
   ]
  },
  {
   "cell_type": "code",
   "execution_count": 39,
   "id": "d985633c-66f6-4ec5-93c8-85237e7501fa",
   "metadata": {},
   "outputs": [
    {
     "data": {
      "text/plain": [
       "Ranking           int64\n",
       "Title            object\n",
       "Rating          float64\n",
       "ReviewCount     float64\n",
       "Price           float64\n",
       "offer           float64\n",
       "sponsored          bool\n",
       "DeliveryDays    float64\n",
       "Sales           float64\n",
       "dtype: object"
      ]
     },
     "execution_count": 39,
     "metadata": {},
     "output_type": "execute_result"
    }
   ],
   "source": [
    "df.dtypes"
   ]
  },
  {
   "cell_type": "code",
   "execution_count": 40,
   "id": "116d0403-fa1a-44bc-8cdd-50ba33118a7c",
   "metadata": {},
   "outputs": [
    {
     "data": {
      "text/html": [
       "\n",
       "<style>\n",
       "  #altair-viz-80b18919c3ab4809b3b6f84d7e99aa94.vega-embed {\n",
       "    width: 100%;\n",
       "    display: flex;\n",
       "  }\n",
       "\n",
       "  #altair-viz-80b18919c3ab4809b3b6f84d7e99aa94.vega-embed details,\n",
       "  #altair-viz-80b18919c3ab4809b3b6f84d7e99aa94.vega-embed details summary {\n",
       "    position: relative;\n",
       "  }\n",
       "</style>\n",
       "<div id=\"altair-viz-80b18919c3ab4809b3b6f84d7e99aa94\"></div>\n",
       "<script type=\"text/javascript\">\n",
       "  var VEGA_DEBUG = (typeof VEGA_DEBUG == \"undefined\") ? {} : VEGA_DEBUG;\n",
       "  (function(spec, embedOpt){\n",
       "    let outputDiv = document.currentScript.previousElementSibling;\n",
       "    if (outputDiv.id !== \"altair-viz-80b18919c3ab4809b3b6f84d7e99aa94\") {\n",
       "      outputDiv = document.getElementById(\"altair-viz-80b18919c3ab4809b3b6f84d7e99aa94\");\n",
       "    }\n",
       "    const paths = {\n",
       "      \"vega\": \"https://cdn.jsdelivr.net/npm/vega@5?noext\",\n",
       "      \"vega-lib\": \"https://cdn.jsdelivr.net/npm/vega-lib?noext\",\n",
       "      \"vega-lite\": \"https://cdn.jsdelivr.net/npm/vega-lite@5.17.0?noext\",\n",
       "      \"vega-embed\": \"https://cdn.jsdelivr.net/npm/vega-embed@6?noext\",\n",
       "    };\n",
       "\n",
       "    function maybeLoadScript(lib, version) {\n",
       "      var key = `${lib.replace(\"-\", \"\")}_version`;\n",
       "      return (VEGA_DEBUG[key] == version) ?\n",
       "        Promise.resolve(paths[lib]) :\n",
       "        new Promise(function(resolve, reject) {\n",
       "          var s = document.createElement('script');\n",
       "          document.getElementsByTagName(\"head\")[0].appendChild(s);\n",
       "          s.async = true;\n",
       "          s.onload = () => {\n",
       "            VEGA_DEBUG[key] = version;\n",
       "            return resolve(paths[lib]);\n",
       "          };\n",
       "          s.onerror = () => reject(`Error loading script: ${paths[lib]}`);\n",
       "          s.src = paths[lib];\n",
       "        });\n",
       "    }\n",
       "\n",
       "    function showError(err) {\n",
       "      outputDiv.innerHTML = `<div class=\"error\" style=\"color:red;\">${err}</div>`;\n",
       "      throw err;\n",
       "    }\n",
       "\n",
       "    function displayChart(vegaEmbed) {\n",
       "      vegaEmbed(outputDiv, spec, embedOpt)\n",
       "        .catch(err => showError(`Javascript Error: ${err.message}<br>This usually means there's a typo in your chart specification. See the javascript console for the full traceback.`));\n",
       "    }\n",
       "\n",
       "    if(typeof define === \"function\" && define.amd) {\n",
       "      requirejs.config({paths});\n",
       "      require([\"vega-embed\"], displayChart, err => showError(`Error loading script: ${err.message}`));\n",
       "    } else {\n",
       "      maybeLoadScript(\"vega\", \"5\")\n",
       "        .then(() => maybeLoadScript(\"vega-lite\", \"5.17.0\"))\n",
       "        .then(() => maybeLoadScript(\"vega-embed\", \"6\"))\n",
       "        .catch(showError)\n",
       "        .then(() => displayChart(vegaEmbed));\n",
       "    }\n",
       "  })({\"config\": {\"view\": {\"continuousWidth\": 300, \"continuousHeight\": 300}}, \"data\": {\"name\": \"data-49c13666f2c78b4626ecef7d340781ac\"}, \"mark\": {\"type\": \"bar\"}, \"encoding\": {\"color\": {\"field\": \"sponsored\", \"type\": \"nominal\"}, \"x\": {\"field\": \"Sales\", \"title\": \"Rating\", \"type\": \"ordinal\"}, \"y\": {\"aggregate\": \"sum\", \"field\": \"counts\", \"title\": \"Counts\", \"type\": \"quantitative\"}}, \"title\": \"Value Counts of Ratings with Stacked Color Based on Sponsored\", \"$schema\": \"https://vega.github.io/schema/vega-lite/v5.17.0.json\", \"datasets\": {\"data-49c13666f2c78b4626ecef7d340781ac\": [{\"Sales\": 50.0, \"sponsored\": false, \"counts\": 140}, {\"Sales\": 50.0, \"sponsored\": true, \"counts\": 51}, {\"Sales\": 100.0, \"sponsored\": false, \"counts\": 110}, {\"Sales\": 100.0, \"sponsored\": true, \"counts\": 66}, {\"Sales\": 200.0, \"sponsored\": false, \"counts\": 60}, {\"Sales\": 200.0, \"sponsored\": true, \"counts\": 13}, {\"Sales\": 300.0, \"sponsored\": false, \"counts\": 24}, {\"Sales\": 300.0, \"sponsored\": true, \"counts\": 8}, {\"Sales\": 400.0, \"sponsored\": false, \"counts\": 28}, {\"Sales\": 400.0, \"sponsored\": true, \"counts\": 5}, {\"Sales\": 500.0, \"sponsored\": false, \"counts\": 54}, {\"Sales\": 500.0, \"sponsored\": true, \"counts\": 6}, {\"Sales\": 600.0, \"sponsored\": false, \"counts\": 3}, {\"Sales\": 900.0, \"sponsored\": false, \"counts\": 1}, {\"Sales\": 1000.0, \"sponsored\": false, \"counts\": 26}, {\"Sales\": 1000.0, \"sponsored\": true, \"counts\": 6}, {\"Sales\": 2000.0, \"sponsored\": false, \"counts\": 8}, {\"Sales\": 2000.0, \"sponsored\": true, \"counts\": 3}, {\"Sales\": 3000.0, \"sponsored\": false, \"counts\": 8}, {\"Sales\": 4000.0, \"sponsored\": false, \"counts\": 5}, {\"Sales\": 4000.0, \"sponsored\": true, \"counts\": 4}, {\"Sales\": 5000.0, \"sponsored\": false, \"counts\": 5}, {\"Sales\": 6000.0, \"sponsored\": false, \"counts\": 4}, {\"Sales\": 6000.0, \"sponsored\": true, \"counts\": 6}, {\"Sales\": 7000.0, \"sponsored\": false, \"counts\": 3}, {\"Sales\": 7000.0, \"sponsored\": true, \"counts\": 1}, {\"Sales\": 8000.0, \"sponsored\": false, \"counts\": 3}, {\"Sales\": 9000.0, \"sponsored\": false, \"counts\": 2}, {\"Sales\": 10000.0, \"sponsored\": false, \"counts\": 11}, {\"Sales\": 10000.0, \"sponsored\": true, \"counts\": 2}]}}, {\"mode\": \"vega-lite\"});\n",
       "</script>"
      ],
      "text/plain": [
       "alt.Chart(...)"
      ]
     },
     "execution_count": 40,
     "metadata": {},
     "output_type": "execute_result"
    }
   ],
   "source": [
    "rating_counts = df.groupby(['Sales', 'sponsored']).size().reset_index(name='counts')\n",
    "\n",
    "# Create the Altair stacked bar chart\n",
    "chart = alt.Chart(rating_counts).mark_bar().encode(\n",
    "    x=alt.X('Sales:O', title='Rating'),\n",
    "    y=alt.Y('sum(counts):Q', title='Counts'),\n",
    "    color='sponsored:N'\n",
    ").properties(\n",
    "    title='Value Counts of Ratings with Stacked Color Based on Sponsored'\n",
    ")\n",
    "\n",
    "chart"
   ]
  },
  {
   "cell_type": "code",
   "execution_count": 41,
   "id": "c8c5d799-4d9d-4401-acd2-4bd9bd85dc0b",
   "metadata": {},
   "outputs": [
    {
     "data": {
      "text/html": [
       "\n",
       "<style>\n",
       "  #altair-viz-2d2f01be5be94bc98315b11275b7ad85.vega-embed {\n",
       "    width: 100%;\n",
       "    display: flex;\n",
       "  }\n",
       "\n",
       "  #altair-viz-2d2f01be5be94bc98315b11275b7ad85.vega-embed details,\n",
       "  #altair-viz-2d2f01be5be94bc98315b11275b7ad85.vega-embed details summary {\n",
       "    position: relative;\n",
       "  }\n",
       "</style>\n",
       "<div id=\"altair-viz-2d2f01be5be94bc98315b11275b7ad85\"></div>\n",
       "<script type=\"text/javascript\">\n",
       "  var VEGA_DEBUG = (typeof VEGA_DEBUG == \"undefined\") ? {} : VEGA_DEBUG;\n",
       "  (function(spec, embedOpt){\n",
       "    let outputDiv = document.currentScript.previousElementSibling;\n",
       "    if (outputDiv.id !== \"altair-viz-2d2f01be5be94bc98315b11275b7ad85\") {\n",
       "      outputDiv = document.getElementById(\"altair-viz-2d2f01be5be94bc98315b11275b7ad85\");\n",
       "    }\n",
       "    const paths = {\n",
       "      \"vega\": \"https://cdn.jsdelivr.net/npm/vega@5?noext\",\n",
       "      \"vega-lib\": \"https://cdn.jsdelivr.net/npm/vega-lib?noext\",\n",
       "      \"vega-lite\": \"https://cdn.jsdelivr.net/npm/vega-lite@5.17.0?noext\",\n",
       "      \"vega-embed\": \"https://cdn.jsdelivr.net/npm/vega-embed@6?noext\",\n",
       "    };\n",
       "\n",
       "    function maybeLoadScript(lib, version) {\n",
       "      var key = `${lib.replace(\"-\", \"\")}_version`;\n",
       "      return (VEGA_DEBUG[key] == version) ?\n",
       "        Promise.resolve(paths[lib]) :\n",
       "        new Promise(function(resolve, reject) {\n",
       "          var s = document.createElement('script');\n",
       "          document.getElementsByTagName(\"head\")[0].appendChild(s);\n",
       "          s.async = true;\n",
       "          s.onload = () => {\n",
       "            VEGA_DEBUG[key] = version;\n",
       "            return resolve(paths[lib]);\n",
       "          };\n",
       "          s.onerror = () => reject(`Error loading script: ${paths[lib]}`);\n",
       "          s.src = paths[lib];\n",
       "        });\n",
       "    }\n",
       "\n",
       "    function showError(err) {\n",
       "      outputDiv.innerHTML = `<div class=\"error\" style=\"color:red;\">${err}</div>`;\n",
       "      throw err;\n",
       "    }\n",
       "\n",
       "    function displayChart(vegaEmbed) {\n",
       "      vegaEmbed(outputDiv, spec, embedOpt)\n",
       "        .catch(err => showError(`Javascript Error: ${err.message}<br>This usually means there's a typo in your chart specification. See the javascript console for the full traceback.`));\n",
       "    }\n",
       "\n",
       "    if(typeof define === \"function\" && define.amd) {\n",
       "      requirejs.config({paths});\n",
       "      require([\"vega-embed\"], displayChart, err => showError(`Error loading script: ${err.message}`));\n",
       "    } else {\n",
       "      maybeLoadScript(\"vega\", \"5\")\n",
       "        .then(() => maybeLoadScript(\"vega-lite\", \"5.17.0\"))\n",
       "        .then(() => maybeLoadScript(\"vega-embed\", \"6\"))\n",
       "        .catch(showError)\n",
       "        .then(() => displayChart(vegaEmbed));\n",
       "    }\n",
       "  })({\"config\": {\"view\": {\"continuousWidth\": 300, \"continuousHeight\": 300}}, \"data\": {\"name\": \"data-3854c03d1ca3fc57b6e333b493adedff\"}, \"mark\": {\"type\": \"bar\"}, \"encoding\": {\"color\": {\"field\": \"sponsored\", \"type\": \"nominal\"}, \"tooltip\": [{\"field\": \"Rating\", \"type\": \"quantitative\"}, {\"field\": \"sponsored\", \"type\": \"nominal\"}, {\"field\": \"Sales\", \"type\": \"quantitative\"}], \"x\": {\"field\": \"Rating\", \"type\": \"ordinal\"}, \"y\": {\"field\": \"Sales\", \"type\": \"quantitative\"}}, \"params\": [{\"name\": \"param_2\", \"select\": {\"type\": \"interval\", \"encodings\": [\"x\", \"y\"]}, \"bind\": \"scales\"}], \"title\": \"Average Sales against Rating\", \"$schema\": \"https://vega.github.io/schema/vega-lite/v5.17.0.json\", \"datasets\": {\"data-3854c03d1ca3fc57b6e333b493adedff\": [{\"Rating\": 1.0, \"sponsored\": false, \"Sales\": null}, {\"Rating\": 1.3, \"sponsored\": false, \"Sales\": null}, {\"Rating\": 2.0, \"sponsored\": false, \"Sales\": null}, {\"Rating\": 2.1, \"sponsored\": false, \"Sales\": 50.0}, {\"Rating\": 2.4, \"sponsored\": false, \"Sales\": null}, {\"Rating\": 2.4, \"sponsored\": true, \"Sales\": null}, {\"Rating\": 2.5, \"sponsored\": false, \"Sales\": null}, {\"Rating\": 2.6, \"sponsored\": false, \"Sales\": null}, {\"Rating\": 2.7, \"sponsored\": false, \"Sales\": null}, {\"Rating\": 2.8, \"sponsored\": false, \"Sales\": null}, {\"Rating\": 2.9, \"sponsored\": false, \"Sales\": null}, {\"Rating\": 3.0, \"sponsored\": false, \"Sales\": 100.0}, {\"Rating\": 3.1, \"sponsored\": false, \"Sales\": 50.0}, {\"Rating\": 3.2, \"sponsored\": false, \"Sales\": null}, {\"Rating\": 3.2, \"sponsored\": true, \"Sales\": 100.0}, {\"Rating\": 3.3, \"sponsored\": false, \"Sales\": 100.0}, {\"Rating\": 3.3, \"sponsored\": true, \"Sales\": null}, {\"Rating\": 3.4, \"sponsored\": false, \"Sales\": null}, {\"Rating\": 3.5, \"sponsored\": false, \"Sales\": 50.0}, {\"Rating\": 3.5, \"sponsored\": true, \"Sales\": null}, {\"Rating\": 3.6, \"sponsored\": false, \"Sales\": 100.0}, {\"Rating\": 3.6, \"sponsored\": true, \"Sales\": 100.0}, {\"Rating\": 3.7, \"sponsored\": false, \"Sales\": 150.0}, {\"Rating\": 3.7, \"sponsored\": true, \"Sales\": null}, {\"Rating\": 3.8, \"sponsored\": false, \"Sales\": 105.0}, {\"Rating\": 3.8, \"sponsored\": true, \"Sales\": 100.0}, {\"Rating\": 3.9, \"sponsored\": false, \"Sales\": 155.55555555555554}, {\"Rating\": 3.9, \"sponsored\": true, \"Sales\": 425.0}, {\"Rating\": 4.0, \"sponsored\": false, \"Sales\": 171.42857142857142}, {\"Rating\": 4.0, \"sponsored\": true, \"Sales\": null}, {\"Rating\": 4.1, \"sponsored\": false, \"Sales\": 195.45454545454547}, {\"Rating\": 4.1, \"sponsored\": true, \"Sales\": 90.0}, {\"Rating\": 4.2, \"sponsored\": false, \"Sales\": 376.7857142857143}, {\"Rating\": 4.2, \"sponsored\": true, \"Sales\": 207.14285714285714}, {\"Rating\": 4.3, \"sponsored\": false, \"Sales\": 664.8148148148148}, {\"Rating\": 4.3, \"sponsored\": true, \"Sales\": 879.3478260869565}, {\"Rating\": 4.4, \"sponsored\": false, \"Sales\": 485.0}, {\"Rating\": 4.4, \"sponsored\": true, \"Sales\": 437.5}, {\"Rating\": 4.5, \"sponsored\": false, \"Sales\": 1483.3333333333333}, {\"Rating\": 4.5, \"sponsored\": true, \"Sales\": 502.77777777777777}, {\"Rating\": 4.6, \"sponsored\": false, \"Sales\": 1260.1694915254238}, {\"Rating\": 4.6, \"sponsored\": true, \"Sales\": 2915.0}, {\"Rating\": 4.7, \"sponsored\": false, \"Sales\": 983.3333333333334}, {\"Rating\": 4.7, \"sponsored\": true, \"Sales\": 750.0}, {\"Rating\": 4.8, \"sponsored\": false, \"Sales\": 925.0}, {\"Rating\": 4.8, \"sponsored\": true, \"Sales\": 50.0}, {\"Rating\": 4.9, \"sponsored\": false, \"Sales\": 50.0}, {\"Rating\": 4.9, \"sponsored\": true, \"Sales\": null}, {\"Rating\": 5.0, \"sponsored\": false, \"Sales\": 50.0}, {\"Rating\": 5.0, \"sponsored\": true, \"Sales\": null}]}}, {\"mode\": \"vega-lite\"});\n",
       "</script>"
      ],
      "text/plain": [
       "alt.Chart(...)"
      ]
     },
     "metadata": {},
     "output_type": "display_data"
    }
   ],
   "source": [
    "grouped_df = df.groupby(['Rating', 'sponsored']).agg({'Sales': 'mean'}).reset_index()\n",
    "\n",
    "# Create the bar chart with Altair\n",
    "chart = alt.Chart(grouped_df).mark_bar().encode(\n",
    "    x='Rating:sponsored_true = grouped_df[grouped_df['sponsored'] == True]\n",
    "sponsored_false = grouped_df[grouped_df['sponsored'] == False]\n",
    "\n",
    "# Plotting\n",
    "fig, ax = plt.subplots(figsize=(10, 6))\n",
    "\n",
    "# Plot sponsored true line\n",
    "ax.plot(sponsored_true['Rating'], sponsored_true['Sales'], label='Sponsored', marker='o')\n",
    "\n",
    "# Plot sponsored false line\n",
    "ax.plot(sponsored_false['Rating'], sponsored_false['Sales'], label='Not Sponsored', marker='o')\n",
    "\n",
    "# Add labels and title\n",
    "ax.set_xlabel('Rating')\n",
    "ax.set_ylabel('Average Sales')\n",
    "ax.set_title('Average Sales vs Rating')\n",
    "ax.legend()\n",
    "\n",
    "plt.show()O',\n",
    "    y='Sales:Q',\n",
    "    color='sponsored:N',\n",
    "    tooltip=['Rating', 'sponsored', 'Sales']\n",
    ").properties(\n",
    "    title='Average Sales against Rating'\n",
    ").interactive()\n",
    "\n",
    "# Show the chart\n",
    "chart.show()"
   ]
  },
  {
   "cell_type": "code",
   "execution_count": 48,
   "id": "3321ce68-3664-402b-a111-0dd7079f353f",
   "metadata": {},
   "outputs": [
    {
     "data": {
      "image/png": "[encoded data removed]",
      "text/plain": [
       "<Figure size 1000x600 with 1 Axes>"
      ]
     },
     "metadata": {},
     "output_type": "display_data"
    }
   ],
   "source": [
    "sponsored_true = grouped_df[grouped_df['sponsored'] == True]\n",
    "sponsored_false = grouped_df[grouped_df['sponsored'] == False]\n",
    "\n",
    "combined_df = df.groupby('Rating').agg({'Sales': 'mean'}).reset_index()\n",
    "\n",
    "# Plotting\n",
    "fig, ax = plt.subplots(figsize=(10, 6))\n",
    "\n",
    "# Plot sponsored true line\n",
    "ax.plot(sponsored_true['Rating'], sponsorekkd_true['Sales'], label='Sponsored', marker='o')\n",
    "\n",
    "# Plot sponsored false line\n",
    "ax.plot(sponsored_false['Rating'], sponsored_false['Sales'], label='Not Sponsored', marker='o')\n",
    "\n",
    "# Plot combined line\n",
    "ax.plot(combined_df['Rating'], combined_df['Sales'], label='Combined', marker='o', linestyle='--')\n",
    "\n",
    "# Add labels and title\n",
    "ax.set_xlabel('Rating')\n",
    "ax.set_ylabel('Average Sales')\n",
    "ax.set_title('Average Sales vs Rating')\n",
    "ax.legend()\n",
    "\n",
    "plt.show()"
   ]
  },
  {
   "cell_type": "code",
   "execution_count": 34,
   "id": "f4088709-4f92-4c2c-9348-77822bf11a69",
   "metadata": {
    "scrolled": true
   },
   "outputs": [
    {
     "data": {
      "text/plain": [
       "Release Date    datetime64[ns]\n",
       "Time                    object\n",
       "Actual                 float64\n",
       "Previous               float64\n",
       "dtype: object"
      ]
     },
     "execution_count": 34,
     "metadata": {},
     "output_type": "execute_result"
    }
   ],
   "source": [
    "df.dtypes"
   ]
  },
  {
   "cell_type": "code",
   "execution_count": 35,
   "id": "0d66dfd0-89e6-4a91-802e-e7b3a870c0ef",
   "metadata": {},
   "outputs": [],
   "source": [
    "df.to_csv('mortgage.csv',index=False)"
   ]
  },
  {
   "cell_type": "code",
   "execution_count": 6,
   "id": "ea5099e5-10f8-4298-9989-9ca10dc1ed84",
   "metadata": {},
   "outputs": [],
   "source": [
    "from datetime import datetime, timedelta\n",
    "\n",
    "# Reference date\n",
    "reference_date = datetime.strptime('Jun 6', '%b %d')\n",
    "\n",
    "# Function to calculate days from reference date\n",
    "def calculate_days_from_reference(delivery_time):\n",
    "    if pd.isna(delivery_time):\n",
    "        return None\n",
    "    elif 'Today' in delivery_time:\n",
    "        return 0\n",
    "    elif 'Tomorrow' in delivery_time:\n",
    "        return 1\n",
    "    else:\n",
    "        date_str = delivery_time.split(',')[-1].strip()\n",
    "        try:\n",
    "            delivery_date = datetime.strptime(date_str, '%b %d')\n",
    "            return (delivery_date - reference_date).days\n",
    "        except ValueError:\n",
    "            # Handle cases like 'Jun 7 - 11'\n",
    "            try:\n",
    "                date_str = delivery_time.split('-')[0].strip()\n",
    "                delivery_date = datetime.strptime(date_str, '%b %d')\n",
    "                return (delivery_date - reference_date).days\n",
    "            except ValueError:\n",
    "                return None\n",
    "\n",
    "# Apply the function to the DeliveryTime column\n",
    "data['DeliveryDays'] = data['DeliveryDays'].apply(calculate_days_from_reference)\n",
    "\n"
   ]
  },
  {
   "cell_type": "code",
   "execution_count": 8,
   "id": "0b1beabc-13df-46d4-bb54-31b0823fd5ac",
   "metadata": {},
   "outputs": [
    {
     "data": {
      "text/plain": [
       "DeliveryDays\n",
       "5.0     1820\n",
       "6.0      236\n",
       "7.0      148\n",
       "21.0     101\n",
       "11.0     100\n",
       "18.0      43\n",
       "4.0       39\n",
       "12.0      32\n",
       "1.0       20\n",
       "15.0      19\n",
       "8.0       11\n",
       "14.0       8\n",
       "20.0       4\n",
       "22.0       4\n",
       "19.0       3\n",
       "2.0        1\n",
       "Name: count, dtype: int64"
      ]
     },
     "execution_count": 8,
     "metadata": {},
     "output_type": "execute_result"
    }
   ],
   "source": [
    "data['DeliveryDays'].value_counts()"
   ]
  },
  {
   "cell_type": "code",
   "execution_count": null,
   "id": "24c5562c-d87d-47dc-b9f6-e7ef135990b1",
   "metadata": {},
   "outputs": [],
   "source": [
    "data['Sales'] = data['sales'].str.extract(r'(\\d+[Kk]?)\\+? bought')[0]\n",
    "data['Sales'] = data['Sales'].replace({'K': '000', 'k': '000'}, regex=True).astype(float)"
   ]
  },
  {
   "cell_type": "code",
   "execution_count": 16,
   "id": "8f07b344-67a8-437c-a103-8af393c2878a",
   "metadata": {},
   "outputs": [],
   "source": [
    "data['Price'] = data['Price'].replace('$', '').astype(float).fillna(0).astype(float)"
   ]
  },
  {
   "cell_type": "code",
   "execution_count": 25,
   "id": "5fdbdfa6-2bbb-44e4-8a63-73aff56f55d5",
   "metadata": {},
   "outputs": [],
   "source": [
    "data['ReviewCount'] = pd.to_numeric(data['ReviewCount'], errors='coerce')"
   ]
  },
  {
   "cell_type": "code",
   "execution_count": 34,
   "id": "e822dd47-07e4-4d0d-898d-07e91c53ace0",
   "metadata": {},
   "outputs": [],
   "source": [
    "data['offer'] = data['offer'].str.extract(r'(\\d+)%', expand=False)"
   ]
  },
  {
   "cell_type": "code",
   "execution_count": 42,
   "id": "2e43df17-9f9d-44f8-93a5-9199f6029ae7",
   "metadata": {},
   "outputs": [],
   "source": [
    "data['offer'] = data['offer'].astype(float)"
   ]
  },
  {
   "cell_type": "code",
   "execution_count": 46,
   "id": "878be065-5a1f-4962-a92e-7fe2ca3d9de4",
   "metadata": {},
   "outputs": [],
   "source": [
    "data['sponsored'] = data['sponsored'].astype(bool)"
   ]
  },
  {
   "cell_type": "code",
   "execution_count": 53,
   "id": "e2037b52-4ed0-47de-a1d7-e8709feb11c7",
   "metadata": {},
   "outputs": [
    {
     "data": {
      "text/plain": [
       "sponsored\n",
       "True    2960\n",
       "Name: count, dtype: int64"
      ]
     },
     "execution_count": 53,
     "metadata": {},
     "output_type": "execute_result"
    }
   ],
   "source": [
    "data['sponsored'].value_counts()"
   ]
  },
  {
   "cell_type": "code",
   "execution_count": 48,
   "id": "9a7ce34c-f6c3-4f4d-8064-3509564f222c",
   "metadata": {},
   "outputs": [],
   "source": [
    "data['Ranking'] = data['Ranking'].astype(float)"
   ]
  },
  {
   "cell_type": "code",
   "execution_count": 50,
   "id": "9c4344d4-3f2c-422a-9f4c-425814bdc2cf",
   "metadata": {},
   "outputs": [],
   "source": [
    "data.to_csv('amazon_data.csv')"
   ]
  },
  {
   "cell_type": "code",
   "execution_count": 51,
   "id": "af403244-6a18-4e7b-92a3-c2bbf08b3d3b",
   "metadata": {},
   "outputs": [
    {
     "data": {
      "text/plain": [
       "Ranking         float64\n",
       "Title            object\n",
       "a-icon-alt      float64\n",
       "ReviewCount     float64\n",
       "Price           float64\n",
       "sales            object\n",
       "offer           float64\n",
       "sponsored          bool\n",
       "DeliveryDays    float64\n",
       "Sales           float64\n",
       "dtype: object"
      ]
     },
     "execution_count": 51,
     "metadata": {},
     "output_type": "execute_result"
    }
   ],
   "source": [
    "data.dtypes"
   ]
  },
  {
   "cell_type": "code",
   "execution_count": null,
   "id": "1b84c032-f236-4525-8191-c11737fdb064",
   "metadata": {},
   "outputs": [],
   "source": []
  }
 ],
 "metadata": {
  "kernelspec": {
   "display_name": "Python 3 (ipykernel)",
   "language": "python",
   "name": "python3"
  },
  "language_info": {
   "codemirror_mode": {
    "name": "ipython",
    "version": 3
   },
   "file_extension": ".py",
   "mimetype": "text/x-python",
   "name": "python",
   "nbconvert_exporter": "python",
   "pygments_lexer": "ipython3",
   "version": "3.12.2"
  }
 },
 "nbformat": 4,
 "nbformat_minor": 5
}
